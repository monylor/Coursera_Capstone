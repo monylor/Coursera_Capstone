{
 "cells": [
  {
   "cell_type": "code",
   "execution_count": 1,
   "metadata": {},
   "outputs": [],
   "source": [
    "# Let's start by importing the necessary libraries\n",
    "\n",
    "import numpy as np \n",
    "import pandas as pd\n",
    "%matplotlib inline \n",
    "import matplotlib as mpl\n",
    "import matplotlib.pyplot as plt\n",
    "import matplotlib.dates as mdates\n",
    "import seaborn as sns\n",
    "import datetime as dt"
   ]
  },
  {
   "cell_type": "markdown",
   "metadata": {},
   "source": [
    "# Exploratory analysis of the dataset "
   ]
  },
  {
   "cell_type": "markdown",
   "metadata": {},
   "source": [
    "### Downloading the dataset from the official Seattle GeoData website (https://data-seattlecitygis.opendata.arcgis.com/)"
   ]
  },
  {
   "cell_type": "code",
   "execution_count": 2,
   "metadata": {},
   "outputs": [
    {
     "name": "stdout",
     "output_type": "stream",
     "text": [
      "Data read into a pandas dataframe!\n"
     ]
    }
   ],
   "source": [
    "# Reading the dataset into a panda dataframe\n",
    "\n",
    "df = pd.read_csv('http://data-seattlecitygis.opendata.arcgis.com/datasets/5b5c745e0f1f48e7a53acec63a0022ab_0.csv')\n",
    "\n",
    "print ('Data read into a pandas dataframe!')"
   ]
  },
  {
   "cell_type": "markdown",
   "metadata": {},
   "source": [
    "### Exploring the dataset after reading it into a panda dataframe"
   ]
  },
  {
   "cell_type": "code",
   "execution_count": 3,
   "metadata": {},
   "outputs": [
    {
     "data": {
      "text/html": [
       "<div>\n",
       "<style scoped>\n",
       "    .dataframe tbody tr th:only-of-type {\n",
       "        vertical-align: middle;\n",
       "    }\n",
       "\n",
       "    .dataframe tbody tr th {\n",
       "        vertical-align: top;\n",
       "    }\n",
       "\n",
       "    .dataframe thead th {\n",
       "        text-align: right;\n",
       "    }\n",
       "</style>\n",
       "<table border=\"1\" class=\"dataframe\">\n",
       "  <thead>\n",
       "    <tr style=\"text-align: right;\">\n",
       "      <th></th>\n",
       "      <th>X</th>\n",
       "      <th>Y</th>\n",
       "      <th>OBJECTID</th>\n",
       "      <th>INCKEY</th>\n",
       "      <th>COLDETKEY</th>\n",
       "      <th>REPORTNO</th>\n",
       "      <th>STATUS</th>\n",
       "      <th>ADDRTYPE</th>\n",
       "      <th>INTKEY</th>\n",
       "      <th>LOCATION</th>\n",
       "      <th>...</th>\n",
       "      <th>ROADCOND</th>\n",
       "      <th>LIGHTCOND</th>\n",
       "      <th>PEDROWNOTGRNT</th>\n",
       "      <th>SDOTCOLNUM</th>\n",
       "      <th>SPEEDING</th>\n",
       "      <th>ST_COLCODE</th>\n",
       "      <th>ST_COLDESC</th>\n",
       "      <th>SEGLANEKEY</th>\n",
       "      <th>CROSSWALKKEY</th>\n",
       "      <th>HITPARKEDCAR</th>\n",
       "    </tr>\n",
       "  </thead>\n",
       "  <tbody>\n",
       "    <tr>\n",
       "      <th>0</th>\n",
       "      <td>-122.356511</td>\n",
       "      <td>47.517361</td>\n",
       "      <td>1</td>\n",
       "      <td>327920</td>\n",
       "      <td>329420</td>\n",
       "      <td>3856094</td>\n",
       "      <td>Matched</td>\n",
       "      <td>Intersection</td>\n",
       "      <td>34911.0</td>\n",
       "      <td>17TH AVE SW AND SW ROXBURY ST</td>\n",
       "      <td>...</td>\n",
       "      <td>Dry</td>\n",
       "      <td>Daylight</td>\n",
       "      <td>NaN</td>\n",
       "      <td>NaN</td>\n",
       "      <td>NaN</td>\n",
       "      <td>10</td>\n",
       "      <td>Entering at angle</td>\n",
       "      <td>0</td>\n",
       "      <td>0</td>\n",
       "      <td>N</td>\n",
       "    </tr>\n",
       "    <tr>\n",
       "      <th>1</th>\n",
       "      <td>-122.361405</td>\n",
       "      <td>47.702064</td>\n",
       "      <td>2</td>\n",
       "      <td>46200</td>\n",
       "      <td>46200</td>\n",
       "      <td>1791736</td>\n",
       "      <td>Matched</td>\n",
       "      <td>Block</td>\n",
       "      <td>NaN</td>\n",
       "      <td>HOLMAN RD NW BETWEEN 4TH AVE NW AND 3RD AVE NW</td>\n",
       "      <td>...</td>\n",
       "      <td>Wet</td>\n",
       "      <td>Dusk</td>\n",
       "      <td>NaN</td>\n",
       "      <td>5101020.0</td>\n",
       "      <td>NaN</td>\n",
       "      <td>13</td>\n",
       "      <td>From same direction - both going straight - bo...</td>\n",
       "      <td>0</td>\n",
       "      <td>0</td>\n",
       "      <td>N</td>\n",
       "    </tr>\n",
       "    <tr>\n",
       "      <th>2</th>\n",
       "      <td>-122.317414</td>\n",
       "      <td>47.664028</td>\n",
       "      <td>3</td>\n",
       "      <td>1212</td>\n",
       "      <td>1212</td>\n",
       "      <td>3507861</td>\n",
       "      <td>Matched</td>\n",
       "      <td>Block</td>\n",
       "      <td>NaN</td>\n",
       "      <td>ROOSEVELT WAY NE BETWEEN NE 47TH ST AND NE 50T...</td>\n",
       "      <td>...</td>\n",
       "      <td>Dry</td>\n",
       "      <td>Dark - Street Lights On</td>\n",
       "      <td>NaN</td>\n",
       "      <td>NaN</td>\n",
       "      <td>NaN</td>\n",
       "      <td>30</td>\n",
       "      <td>From opposite direction - all others</td>\n",
       "      <td>0</td>\n",
       "      <td>0</td>\n",
       "      <td>N</td>\n",
       "    </tr>\n",
       "    <tr>\n",
       "      <th>3</th>\n",
       "      <td>-122.318234</td>\n",
       "      <td>47.619927</td>\n",
       "      <td>4</td>\n",
       "      <td>327909</td>\n",
       "      <td>329409</td>\n",
       "      <td>EA03026</td>\n",
       "      <td>Matched</td>\n",
       "      <td>Intersection</td>\n",
       "      <td>29054.0</td>\n",
       "      <td>11TH AVE E AND E JOHN ST</td>\n",
       "      <td>...</td>\n",
       "      <td>Wet</td>\n",
       "      <td>Dark - Street Lights On</td>\n",
       "      <td>NaN</td>\n",
       "      <td>NaN</td>\n",
       "      <td>NaN</td>\n",
       "      <td>0</td>\n",
       "      <td>Vehicle going straight hits pedestrian</td>\n",
       "      <td>0</td>\n",
       "      <td>0</td>\n",
       "      <td>N</td>\n",
       "    </tr>\n",
       "    <tr>\n",
       "      <th>4</th>\n",
       "      <td>-122.351724</td>\n",
       "      <td>47.560306</td>\n",
       "      <td>5</td>\n",
       "      <td>104900</td>\n",
       "      <td>104900</td>\n",
       "      <td>2671936</td>\n",
       "      <td>Matched</td>\n",
       "      <td>Block</td>\n",
       "      <td>NaN</td>\n",
       "      <td>WEST MARGINAL WAY SW BETWEEN SW ALASKA ST AND ...</td>\n",
       "      <td>...</td>\n",
       "      <td>Ice</td>\n",
       "      <td>Dark - Street Lights On</td>\n",
       "      <td>NaN</td>\n",
       "      <td>9359012.0</td>\n",
       "      <td>Y</td>\n",
       "      <td>50</td>\n",
       "      <td>Fixed object</td>\n",
       "      <td>0</td>\n",
       "      <td>0</td>\n",
       "      <td>N</td>\n",
       "    </tr>\n",
       "  </tbody>\n",
       "</table>\n",
       "<p>5 rows × 40 columns</p>\n",
       "</div>"
      ],
      "text/plain": [
       "            X          Y  OBJECTID  INCKEY  COLDETKEY REPORTNO   STATUS  \\\n",
       "0 -122.356511  47.517361         1  327920     329420  3856094  Matched   \n",
       "1 -122.361405  47.702064         2   46200      46200  1791736  Matched   \n",
       "2 -122.317414  47.664028         3    1212       1212  3507861  Matched   \n",
       "3 -122.318234  47.619927         4  327909     329409  EA03026  Matched   \n",
       "4 -122.351724  47.560306         5  104900     104900  2671936  Matched   \n",
       "\n",
       "       ADDRTYPE   INTKEY                                           LOCATION  \\\n",
       "0  Intersection  34911.0                      17TH AVE SW AND SW ROXBURY ST   \n",
       "1         Block      NaN     HOLMAN RD NW BETWEEN 4TH AVE NW AND 3RD AVE NW   \n",
       "2         Block      NaN  ROOSEVELT WAY NE BETWEEN NE 47TH ST AND NE 50T...   \n",
       "3  Intersection  29054.0                           11TH AVE E AND E JOHN ST   \n",
       "4         Block      NaN  WEST MARGINAL WAY SW BETWEEN SW ALASKA ST AND ...   \n",
       "\n",
       "   ... ROADCOND                LIGHTCOND PEDROWNOTGRNT SDOTCOLNUM SPEEDING  \\\n",
       "0  ...      Dry                 Daylight           NaN        NaN      NaN   \n",
       "1  ...      Wet                     Dusk           NaN  5101020.0      NaN   \n",
       "2  ...      Dry  Dark - Street Lights On           NaN        NaN      NaN   \n",
       "3  ...      Wet  Dark - Street Lights On           NaN        NaN      NaN   \n",
       "4  ...      Ice  Dark - Street Lights On           NaN  9359012.0        Y   \n",
       "\n",
       "   ST_COLCODE                                         ST_COLDESC  SEGLANEKEY  \\\n",
       "0          10                                  Entering at angle           0   \n",
       "1          13  From same direction - both going straight - bo...           0   \n",
       "2          30               From opposite direction - all others           0   \n",
       "3           0             Vehicle going straight hits pedestrian           0   \n",
       "4          50                                       Fixed object           0   \n",
       "\n",
       "   CROSSWALKKEY  HITPARKEDCAR  \n",
       "0             0             N  \n",
       "1             0             N  \n",
       "2             0             N  \n",
       "3             0             N  \n",
       "4             0             N  \n",
       "\n",
       "[5 rows x 40 columns]"
      ]
     },
     "execution_count": 3,
     "metadata": {},
     "output_type": "execute_result"
    }
   ],
   "source": [
    "# Taking a look at the top 5 rows using the head() function\n",
    "\n",
    "df.head()"
   ]
  },
  {
   "cell_type": "code",
   "execution_count": 4,
   "metadata": {},
   "outputs": [
    {
     "name": "stdout",
     "output_type": "stream",
     "text": [
      "<class 'pandas.core.frame.DataFrame'>\n",
      "RangeIndex: 221738 entries, 0 to 221737\n",
      "Data columns (total 40 columns):\n",
      " #   Column           Non-Null Count   Dtype  \n",
      "---  ------           --------------   -----  \n",
      " 0   X                214260 non-null  float64\n",
      " 1   Y                214260 non-null  float64\n",
      " 2   OBJECTID         221738 non-null  int64  \n",
      " 3   INCKEY           221738 non-null  int64  \n",
      " 4   COLDETKEY        221738 non-null  int64  \n",
      " 5   REPORTNO         221738 non-null  object \n",
      " 6   STATUS           221738 non-null  object \n",
      " 7   ADDRTYPE         218024 non-null  object \n",
      " 8   INTKEY           72027 non-null   float64\n",
      " 9   LOCATION         217145 non-null  object \n",
      " 10  EXCEPTRSNCODE    101335 non-null  object \n",
      " 11  EXCEPTRSNDESC    11785 non-null   object \n",
      " 12  SEVERITYCODE     221737 non-null  object \n",
      " 13  SEVERITYDESC     221738 non-null  object \n",
      " 14  COLLISIONTYPE    195287 non-null  object \n",
      " 15  PERSONCOUNT      221738 non-null  int64  \n",
      " 16  PEDCOUNT         221738 non-null  int64  \n",
      " 17  PEDCYLCOUNT      221738 non-null  int64  \n",
      " 18  VEHCOUNT         221738 non-null  int64  \n",
      " 19  INJURIES         221738 non-null  int64  \n",
      " 20  SERIOUSINJURIES  221738 non-null  int64  \n",
      " 21  FATALITIES       221738 non-null  int64  \n",
      " 22  INCDATE          221738 non-null  object \n",
      " 23  INCDTTM          221738 non-null  object \n",
      " 24  JUNCTIONTYPE     209759 non-null  object \n",
      " 25  SDOT_COLCODE     221737 non-null  float64\n",
      " 26  SDOT_COLDESC     221737 non-null  object \n",
      " 27  INATTENTIONIND   30188 non-null   object \n",
      " 28  UNDERINFL        195307 non-null  object \n",
      " 29  WEATHER          195097 non-null  object \n",
      " 30  ROADCOND         195178 non-null  object \n",
      " 31  LIGHTCOND        195008 non-null  object \n",
      " 32  PEDROWNOTGRNT    5195 non-null    object \n",
      " 33  SDOTCOLNUM       127205 non-null  float64\n",
      " 34  SPEEDING         9936 non-null    object \n",
      " 35  ST_COLCODE       212325 non-null  object \n",
      " 36  ST_COLDESC       195287 non-null  object \n",
      " 37  SEGLANEKEY       221738 non-null  int64  \n",
      " 38  CROSSWALKKEY     221738 non-null  int64  \n",
      " 39  HITPARKEDCAR     221738 non-null  object \n",
      "dtypes: float64(5), int64(12), object(23)\n",
      "memory usage: 67.7+ MB\n"
     ]
    }
   ],
   "source": [
    "# Getting basic information about the dataset using the info() method\n",
    "\n",
    "df.info()"
   ]
  },
  {
   "cell_type": "code",
   "execution_count": 5,
   "metadata": {},
   "outputs": [
    {
     "data": {
      "text/plain": [
       "array(['X', 'Y', 'OBJECTID', 'INCKEY', 'COLDETKEY', 'REPORTNO', 'STATUS',\n",
       "       'ADDRTYPE', 'INTKEY', 'LOCATION', 'EXCEPTRSNCODE', 'EXCEPTRSNDESC',\n",
       "       'SEVERITYCODE', 'SEVERITYDESC', 'COLLISIONTYPE', 'PERSONCOUNT',\n",
       "       'PEDCOUNT', 'PEDCYLCOUNT', 'VEHCOUNT', 'INJURIES',\n",
       "       'SERIOUSINJURIES', 'FATALITIES', 'INCDATE', 'INCDTTM',\n",
       "       'JUNCTIONTYPE', 'SDOT_COLCODE', 'SDOT_COLDESC', 'INATTENTIONIND',\n",
       "       'UNDERINFL', 'WEATHER', 'ROADCOND', 'LIGHTCOND', 'PEDROWNOTGRNT',\n",
       "       'SDOTCOLNUM', 'SPEEDING', 'ST_COLCODE', 'ST_COLDESC', 'SEGLANEKEY',\n",
       "       'CROSSWALKKEY', 'HITPARKEDCAR'], dtype=object)"
      ]
     },
     "execution_count": 5,
     "metadata": {},
     "output_type": "execute_result"
    }
   ],
   "source": [
    "# Getting the list of column headers we can call upon the dataframe's .columns parameter\n",
    "\n",
    "df.columns.values "
   ]
  },
  {
   "cell_type": "code",
   "execution_count": 6,
   "metadata": {},
   "outputs": [
    {
     "data": {
      "text/plain": [
       "array([     0,      1,      2, ..., 221735, 221736, 221737])"
      ]
     },
     "execution_count": 6,
     "metadata": {},
     "output_type": "execute_result"
    }
   ],
   "source": [
    "# Getting the list of indicies with the .index parameter\n",
    "\n",
    "df.index.values "
   ]
  },
  {
   "cell_type": "code",
   "execution_count": 7,
   "metadata": {},
   "outputs": [
    {
     "data": {
      "text/plain": [
       "(221738, 40)"
      ]
     },
     "execution_count": 7,
     "metadata": {},
     "output_type": "execute_result"
    }
   ],
   "source": [
    "# Let's find out the size of dataframe (rows, columns)\n",
    "\n",
    "df.shape"
   ]
  },
  {
   "cell_type": "code",
   "execution_count": 8,
   "metadata": {},
   "outputs": [
    {
     "data": {
      "text/plain": [
       "X                    7478\n",
       "Y                    7478\n",
       "OBJECTID                0\n",
       "INCKEY                  0\n",
       "COLDETKEY               0\n",
       "REPORTNO                0\n",
       "STATUS                  0\n",
       "ADDRTYPE             3714\n",
       "INTKEY             149711\n",
       "LOCATION             4593\n",
       "EXCEPTRSNCODE      120403\n",
       "EXCEPTRSNDESC      209953\n",
       "SEVERITYCODE            1\n",
       "SEVERITYDESC            0\n",
       "COLLISIONTYPE       26451\n",
       "PERSONCOUNT             0\n",
       "PEDCOUNT                0\n",
       "PEDCYLCOUNT             0\n",
       "VEHCOUNT                0\n",
       "INJURIES                0\n",
       "SERIOUSINJURIES         0\n",
       "FATALITIES              0\n",
       "INCDATE                 0\n",
       "INCDTTM                 0\n",
       "JUNCTIONTYPE        11979\n",
       "SDOT_COLCODE            1\n",
       "SDOT_COLDESC            1\n",
       "INATTENTIONIND     191550\n",
       "UNDERINFL           26431\n",
       "WEATHER             26641\n",
       "ROADCOND            26560\n",
       "LIGHTCOND           26730\n",
       "PEDROWNOTGRNT      216543\n",
       "SDOTCOLNUM          94533\n",
       "SPEEDING           211802\n",
       "ST_COLCODE           9413\n",
       "ST_COLDESC          26451\n",
       "SEGLANEKEY              0\n",
       "CROSSWALKKEY            0\n",
       "HITPARKEDCAR            0\n",
       "dtype: int64"
      ]
     },
     "execution_count": 8,
     "metadata": {},
     "output_type": "execute_result"
    }
   ],
   "source": [
    "# How many null data per column? (axis=0: rows, axis=1: columns)\n",
    "\n",
    "df.isnull().sum()"
   ]
  },
  {
   "cell_type": "markdown",
   "metadata": {},
   "source": [
    "### Cleaning the dataset:\n",
    "##### - dropping some unnecessary columns\n",
    "##### - replacing the missing values\n",
    "##### - identifying the independent and dependent variables that we are going to work on"
   ]
  },
  {
   "cell_type": "code",
   "execution_count": 9,
   "metadata": {},
   "outputs": [
    {
     "data": {
      "text/html": [
       "<div>\n",
       "<style scoped>\n",
       "    .dataframe tbody tr th:only-of-type {\n",
       "        vertical-align: middle;\n",
       "    }\n",
       "\n",
       "    .dataframe tbody tr th {\n",
       "        vertical-align: top;\n",
       "    }\n",
       "\n",
       "    .dataframe thead th {\n",
       "        text-align: right;\n",
       "    }\n",
       "</style>\n",
       "<table border=\"1\" class=\"dataframe\">\n",
       "  <thead>\n",
       "    <tr style=\"text-align: right;\">\n",
       "      <th></th>\n",
       "      <th>REPORTNO</th>\n",
       "      <th>STATUS</th>\n",
       "      <th>ADDRTYPE</th>\n",
       "      <th>LOCATION</th>\n",
       "      <th>EXCEPTRSNCODE</th>\n",
       "      <th>EXCEPTRSNDESC</th>\n",
       "      <th>SEVERITYCODE</th>\n",
       "      <th>SEVERITYDESC</th>\n",
       "      <th>COLLISIONTYPE</th>\n",
       "      <th>INCDATE</th>\n",
       "      <th>...</th>\n",
       "      <th>INATTENTIONIND</th>\n",
       "      <th>UNDERINFL</th>\n",
       "      <th>WEATHER</th>\n",
       "      <th>ROADCOND</th>\n",
       "      <th>LIGHTCOND</th>\n",
       "      <th>PEDROWNOTGRNT</th>\n",
       "      <th>SPEEDING</th>\n",
       "      <th>ST_COLCODE</th>\n",
       "      <th>ST_COLDESC</th>\n",
       "      <th>HITPARKEDCAR</th>\n",
       "    </tr>\n",
       "  </thead>\n",
       "  <tbody>\n",
       "    <tr>\n",
       "      <th>count</th>\n",
       "      <td>221738</td>\n",
       "      <td>221738</td>\n",
       "      <td>218024</td>\n",
       "      <td>217145</td>\n",
       "      <td>101335</td>\n",
       "      <td>11785</td>\n",
       "      <td>221737</td>\n",
       "      <td>221738</td>\n",
       "      <td>195287</td>\n",
       "      <td>221738</td>\n",
       "      <td>...</td>\n",
       "      <td>30188</td>\n",
       "      <td>195307</td>\n",
       "      <td>195097</td>\n",
       "      <td>195178</td>\n",
       "      <td>195008</td>\n",
       "      <td>5195</td>\n",
       "      <td>9936</td>\n",
       "      <td>212325</td>\n",
       "      <td>195287</td>\n",
       "      <td>221738</td>\n",
       "    </tr>\n",
       "    <tr>\n",
       "      <th>unique</th>\n",
       "      <td>221735</td>\n",
       "      <td>2</td>\n",
       "      <td>3</td>\n",
       "      <td>25209</td>\n",
       "      <td>2</td>\n",
       "      <td>1</td>\n",
       "      <td>5</td>\n",
       "      <td>5</td>\n",
       "      <td>10</td>\n",
       "      <td>6109</td>\n",
       "      <td>...</td>\n",
       "      <td>1</td>\n",
       "      <td>4</td>\n",
       "      <td>12</td>\n",
       "      <td>9</td>\n",
       "      <td>9</td>\n",
       "      <td>1</td>\n",
       "      <td>1</td>\n",
       "      <td>63</td>\n",
       "      <td>62</td>\n",
       "      <td>2</td>\n",
       "    </tr>\n",
       "    <tr>\n",
       "      <th>top</th>\n",
       "      <td>1776526</td>\n",
       "      <td>Matched</td>\n",
       "      <td>Block</td>\n",
       "      <td>BATTERY ST TUNNEL NB BETWEEN ALASKAN WY VI NB ...</td>\n",
       "      <td></td>\n",
       "      <td>Not Enough Information, or Insufficient Locati...</td>\n",
       "      <td>1</td>\n",
       "      <td>Property Damage Only Collision</td>\n",
       "      <td>Parked Car</td>\n",
       "      <td>2006/11/02 00:00:00+00</td>\n",
       "      <td>...</td>\n",
       "      <td>Y</td>\n",
       "      <td>N</td>\n",
       "      <td>Clear</td>\n",
       "      <td>Dry</td>\n",
       "      <td>Daylight</td>\n",
       "      <td>Y</td>\n",
       "      <td>Y</td>\n",
       "      <td>32</td>\n",
       "      <td>One parked--one moving</td>\n",
       "      <td>N</td>\n",
       "    </tr>\n",
       "    <tr>\n",
       "      <th>freq</th>\n",
       "      <td>2</td>\n",
       "      <td>195360</td>\n",
       "      <td>145118</td>\n",
       "      <td>298</td>\n",
       "      <td>89550</td>\n",
       "      <td>11785</td>\n",
       "      <td>137776</td>\n",
       "      <td>137776</td>\n",
       "      <td>48558</td>\n",
       "      <td>103</td>\n",
       "      <td>...</td>\n",
       "      <td>30188</td>\n",
       "      <td>104002</td>\n",
       "      <td>114807</td>\n",
       "      <td>128660</td>\n",
       "      <td>119555</td>\n",
       "      <td>5195</td>\n",
       "      <td>9936</td>\n",
       "      <td>44937</td>\n",
       "      <td>44937</td>\n",
       "      <td>209649</td>\n",
       "    </tr>\n",
       "  </tbody>\n",
       "</table>\n",
       "<p>4 rows × 23 columns</p>\n",
       "</div>"
      ],
      "text/plain": [
       "       REPORTNO   STATUS ADDRTYPE  \\\n",
       "count    221738   221738   218024   \n",
       "unique   221735        2        3   \n",
       "top     1776526  Matched    Block   \n",
       "freq          2   195360   145118   \n",
       "\n",
       "                                                 LOCATION EXCEPTRSNCODE  \\\n",
       "count                                              217145        101335   \n",
       "unique                                              25209             2   \n",
       "top     BATTERY ST TUNNEL NB BETWEEN ALASKAN WY VI NB ...                 \n",
       "freq                                                  298         89550   \n",
       "\n",
       "                                            EXCEPTRSNDESC SEVERITYCODE  \\\n",
       "count                                               11785       221737   \n",
       "unique                                                  1            5   \n",
       "top     Not Enough Information, or Insufficient Locati...            1   \n",
       "freq                                                11785       137776   \n",
       "\n",
       "                          SEVERITYDESC COLLISIONTYPE                 INCDATE  \\\n",
       "count                           221738        195287                  221738   \n",
       "unique                               5            10                    6109   \n",
       "top     Property Damage Only Collision    Parked Car  2006/11/02 00:00:00+00   \n",
       "freq                            137776         48558                     103   \n",
       "\n",
       "        ... INATTENTIONIND UNDERINFL WEATHER ROADCOND LIGHTCOND PEDROWNOTGRNT  \\\n",
       "count   ...          30188    195307  195097   195178    195008          5195   \n",
       "unique  ...              1         4      12        9         9             1   \n",
       "top     ...              Y         N   Clear      Dry  Daylight             Y   \n",
       "freq    ...          30188    104002  114807   128660    119555          5195   \n",
       "\n",
       "       SPEEDING ST_COLCODE              ST_COLDESC HITPARKEDCAR  \n",
       "count      9936     212325                  195287       221738  \n",
       "unique        1         63                      62            2  \n",
       "top           Y         32  One parked--one moving            N  \n",
       "freq       9936      44937                   44937       209649  \n",
       "\n",
       "[4 rows x 23 columns]"
      ]
     },
     "execution_count": 9,
     "metadata": {},
     "output_type": "execute_result"
    }
   ],
   "source": [
    "# Getting a quick description of the data\n",
    "\n",
    "df.describe(include=['object'])"
   ]
  },
  {
   "cell_type": "code",
   "execution_count": 10,
   "metadata": {},
   "outputs": [
    {
     "data": {
      "text/html": [
       "<div>\n",
       "<style scoped>\n",
       "    .dataframe tbody tr th:only-of-type {\n",
       "        vertical-align: middle;\n",
       "    }\n",
       "\n",
       "    .dataframe tbody tr th {\n",
       "        vertical-align: top;\n",
       "    }\n",
       "\n",
       "    .dataframe thead th {\n",
       "        text-align: right;\n",
       "    }\n",
       "</style>\n",
       "<table border=\"1\" class=\"dataframe\">\n",
       "  <thead>\n",
       "    <tr style=\"text-align: right;\">\n",
       "      <th></th>\n",
       "      <th>Longitude</th>\n",
       "      <th>Latitude</th>\n",
       "      <th>OBJECTID</th>\n",
       "      <th>Address type</th>\n",
       "      <th>LOCATION</th>\n",
       "      <th>SEVERITYCODE</th>\n",
       "      <th>SEVERITYDESC</th>\n",
       "      <th>COLLISIONTYPE</th>\n",
       "      <th>PERSONCOUNT</th>\n",
       "      <th>PEDCOUNT</th>\n",
       "      <th>...</th>\n",
       "      <th>INATTENTIONIND</th>\n",
       "      <th>UNDERINFL</th>\n",
       "      <th>WEATHER</th>\n",
       "      <th>ROADCOND</th>\n",
       "      <th>LIGHTCOND</th>\n",
       "      <th>SPEEDING</th>\n",
       "      <th>ST_COLCODE</th>\n",
       "      <th>SEGLANEKEY</th>\n",
       "      <th>CROSSWALKKEY</th>\n",
       "      <th>HITPARKEDCAR</th>\n",
       "    </tr>\n",
       "  </thead>\n",
       "  <tbody>\n",
       "    <tr>\n",
       "      <th>0</th>\n",
       "      <td>-122.356511</td>\n",
       "      <td>47.517361</td>\n",
       "      <td>1</td>\n",
       "      <td>Intersection</td>\n",
       "      <td>17TH AVE SW AND SW ROXBURY ST</td>\n",
       "      <td>1</td>\n",
       "      <td>Property Damage Only Collision</td>\n",
       "      <td>Angles</td>\n",
       "      <td>2</td>\n",
       "      <td>0</td>\n",
       "      <td>...</td>\n",
       "      <td>NaN</td>\n",
       "      <td>N</td>\n",
       "      <td>Clear</td>\n",
       "      <td>Dry</td>\n",
       "      <td>Daylight</td>\n",
       "      <td>NaN</td>\n",
       "      <td>10</td>\n",
       "      <td>0</td>\n",
       "      <td>0</td>\n",
       "      <td>N</td>\n",
       "    </tr>\n",
       "    <tr>\n",
       "      <th>1</th>\n",
       "      <td>-122.361405</td>\n",
       "      <td>47.702064</td>\n",
       "      <td>2</td>\n",
       "      <td>Block</td>\n",
       "      <td>HOLMAN RD NW BETWEEN 4TH AVE NW AND 3RD AVE NW</td>\n",
       "      <td>1</td>\n",
       "      <td>Property Damage Only Collision</td>\n",
       "      <td>Rear Ended</td>\n",
       "      <td>2</td>\n",
       "      <td>0</td>\n",
       "      <td>...</td>\n",
       "      <td>Y</td>\n",
       "      <td>0</td>\n",
       "      <td>Raining</td>\n",
       "      <td>Wet</td>\n",
       "      <td>Dusk</td>\n",
       "      <td>NaN</td>\n",
       "      <td>13</td>\n",
       "      <td>0</td>\n",
       "      <td>0</td>\n",
       "      <td>N</td>\n",
       "    </tr>\n",
       "    <tr>\n",
       "      <th>2</th>\n",
       "      <td>-122.317414</td>\n",
       "      <td>47.664028</td>\n",
       "      <td>3</td>\n",
       "      <td>Block</td>\n",
       "      <td>ROOSEVELT WAY NE BETWEEN NE 47TH ST AND NE 50T...</td>\n",
       "      <td>2</td>\n",
       "      <td>Injury Collision</td>\n",
       "      <td>Head On</td>\n",
       "      <td>2</td>\n",
       "      <td>0</td>\n",
       "      <td>...</td>\n",
       "      <td>NaN</td>\n",
       "      <td>N</td>\n",
       "      <td>Clear</td>\n",
       "      <td>Dry</td>\n",
       "      <td>Dark - Street Lights On</td>\n",
       "      <td>NaN</td>\n",
       "      <td>30</td>\n",
       "      <td>0</td>\n",
       "      <td>0</td>\n",
       "      <td>N</td>\n",
       "    </tr>\n",
       "    <tr>\n",
       "      <th>3</th>\n",
       "      <td>-122.318234</td>\n",
       "      <td>47.619927</td>\n",
       "      <td>4</td>\n",
       "      <td>Intersection</td>\n",
       "      <td>11TH AVE E AND E JOHN ST</td>\n",
       "      <td>2</td>\n",
       "      <td>Injury Collision</td>\n",
       "      <td>Pedestrian</td>\n",
       "      <td>3</td>\n",
       "      <td>1</td>\n",
       "      <td>...</td>\n",
       "      <td>NaN</td>\n",
       "      <td>N</td>\n",
       "      <td>Raining</td>\n",
       "      <td>Wet</td>\n",
       "      <td>Dark - Street Lights On</td>\n",
       "      <td>NaN</td>\n",
       "      <td>0</td>\n",
       "      <td>0</td>\n",
       "      <td>0</td>\n",
       "      <td>N</td>\n",
       "    </tr>\n",
       "    <tr>\n",
       "      <th>4</th>\n",
       "      <td>-122.351724</td>\n",
       "      <td>47.560306</td>\n",
       "      <td>5</td>\n",
       "      <td>Block</td>\n",
       "      <td>WEST MARGINAL WAY SW BETWEEN SW ALASKA ST AND ...</td>\n",
       "      <td>2</td>\n",
       "      <td>Injury Collision</td>\n",
       "      <td>Other</td>\n",
       "      <td>2</td>\n",
       "      <td>0</td>\n",
       "      <td>...</td>\n",
       "      <td>NaN</td>\n",
       "      <td>0</td>\n",
       "      <td>Clear</td>\n",
       "      <td>Ice</td>\n",
       "      <td>Dark - Street Lights On</td>\n",
       "      <td>Y</td>\n",
       "      <td>50</td>\n",
       "      <td>0</td>\n",
       "      <td>0</td>\n",
       "      <td>N</td>\n",
       "    </tr>\n",
       "  </tbody>\n",
       "</table>\n",
       "<p>5 rows × 28 columns</p>\n",
       "</div>"
      ],
      "text/plain": [
       "    Longitude   Latitude  OBJECTID  Address type  \\\n",
       "0 -122.356511  47.517361         1  Intersection   \n",
       "1 -122.361405  47.702064         2         Block   \n",
       "2 -122.317414  47.664028         3         Block   \n",
       "3 -122.318234  47.619927         4  Intersection   \n",
       "4 -122.351724  47.560306         5         Block   \n",
       "\n",
       "                                            LOCATION SEVERITYCODE  \\\n",
       "0                      17TH AVE SW AND SW ROXBURY ST            1   \n",
       "1     HOLMAN RD NW BETWEEN 4TH AVE NW AND 3RD AVE NW            1   \n",
       "2  ROOSEVELT WAY NE BETWEEN NE 47TH ST AND NE 50T...            2   \n",
       "3                           11TH AVE E AND E JOHN ST            2   \n",
       "4  WEST MARGINAL WAY SW BETWEEN SW ALASKA ST AND ...            2   \n",
       "\n",
       "                     SEVERITYDESC COLLISIONTYPE  PERSONCOUNT  PEDCOUNT  ...  \\\n",
       "0  Property Damage Only Collision        Angles            2         0  ...   \n",
       "1  Property Damage Only Collision    Rear Ended            2         0  ...   \n",
       "2                Injury Collision       Head On            2         0  ...   \n",
       "3                Injury Collision    Pedestrian            3         1  ...   \n",
       "4                Injury Collision         Other            2         0  ...   \n",
       "\n",
       "   INATTENTIONIND  UNDERINFL  WEATHER  ROADCOND                LIGHTCOND  \\\n",
       "0             NaN          N    Clear       Dry                 Daylight   \n",
       "1               Y          0  Raining       Wet                     Dusk   \n",
       "2             NaN          N    Clear       Dry  Dark - Street Lights On   \n",
       "3             NaN          N  Raining       Wet  Dark - Street Lights On   \n",
       "4             NaN          0    Clear       Ice  Dark - Street Lights On   \n",
       "\n",
       "  SPEEDING ST_COLCODE  SEGLANEKEY CROSSWALKKEY HITPARKEDCAR  \n",
       "0      NaN         10           0            0            N  \n",
       "1      NaN         13           0            0            N  \n",
       "2      NaN         30           0            0            N  \n",
       "3      NaN          0           0            0            N  \n",
       "4        Y         50           0            0            N  \n",
       "\n",
       "[5 rows x 28 columns]"
      ]
     },
     "execution_count": 10,
     "metadata": {},
     "output_type": "execute_result"
    }
   ],
   "source": [
    "df.drop(['REPORTNO', 'STATUS', 'EXCEPTRSNCODE','EXCEPTRSNDESC','SDOT_COLDESC'], axis=1, inplace=True)\n",
    "df.drop(['INCKEY','COLDETKEY'], axis=1, inplace=True)\n",
    "df.drop(['INTKEY', 'INCDTTM','PEDROWNOTGRNT','SDOTCOLNUM','ST_COLDESC'], axis=1, inplace=True)\n",
    "\n",
    "df.rename(columns = {'X': 'Longitude','Y':'Latitude', 'ADDRTYPE':'Address type'},inplace = True)\n",
    "df.shape\n",
    "df.head()"
   ]
  },
  {
   "cell_type": "markdown",
   "metadata": {},
   "source": [
    "# Visualizing the data and exploring correlations with some basic plots"
   ]
  },
  {
   "cell_type": "markdown",
   "metadata": {},
   "source": [
    "### Exploring the data by quickly plotting the numbers of people involved in an accident by year, month and day of the week"
   ]
  },
  {
   "cell_type": "code",
   "execution_count": 11,
   "metadata": {},
   "outputs": [],
   "source": [
    "# Let's make the date and time more manageable by converting it with the to_datetime panda function:\n",
    "\n",
    "df['INCDATE'] = pd.to_datetime(df['INCDATE'])\n",
    "\n",
    "df['Year'] = df['INCDATE'].dt.year \n",
    "df['Month'] = df['INCDATE'].dt.month \n",
    "df['DayOfWeek'] = df['INCDATE'].dt.dayofweek"
   ]
  },
  {
   "cell_type": "code",
   "execution_count": 12,
   "metadata": {},
   "outputs": [
    {
     "data": {
      "image/png": "[encoded data removed]",
      "text/plain": [
       "<Figure size 432x288 with 1 Axes>"
      ]
     },
     "metadata": {
      "needs_background": "light"
     },
     "output_type": "display_data"
    },
    {
     "data": {
      "image/png": "[encoded data removed]",
      "text/plain": [
       "<Figure size 432x288 with 1 Axes>"
      ]
     },
     "metadata": {
      "needs_background": "light"
     },
     "output_type": "display_data"
    },
    {
     "data": {
      "image/png": "[encoded data removed]",
      "text/plain": [
       "<Figure size 432x288 with 1 Axes>"
      ]
     },
     "metadata": {
      "needs_background": "light"
     },
     "output_type": "display_data"
    }
   ],
   "source": [
    "# By doing this, we are able to group the data by year, time or day of the week and see if there is any trend in the accidents number\n",
    "\n",
    "df[['Year', 'PERSONCOUNT']].groupby('Year').sum().plot(kind='bar', figsize=(6, 4), color='cornflowerblue')\n",
    "\n",
    "plt.title('People involved in accidents in Seattle over the years, from 2004 to present days \\n')\n",
    "plt.ylabel('Number of people')\n",
    "plt.xlabel('Year')\n",
    "\n",
    "plt.show()\n",
    "\n",
    "df[['Month', 'PERSONCOUNT']].groupby('Month').sum().plot(kind='bar', figsize=(6, 4), color='royalblue')\n",
    "\n",
    "plt.title('People involved in accidents in Seattle each month (from 2004 to present days) \\n')\n",
    "plt.ylabel('Number of people')\n",
    "plt.xlabel('Month')\n",
    "\n",
    "plt.show()\n",
    "\n",
    "df[['DayOfWeek', 'PERSONCOUNT']].groupby('DayOfWeek').sum().plot(kind='bar', figsize=(6, 4), color='darkblue')\n",
    "\n",
    "plt.title('People involved in accidents in Seattle each day (data from 2004 to present days) \\n')\n",
    "plt.ylabel('Number of people')\n",
    "plt.xlabel('Day of the week')\n",
    "\n",
    "plt.show()"
   ]
  },
  {
   "cell_type": "code",
   "execution_count": 13,
   "metadata": {},
   "outputs": [
    {
     "data": {
      "text/html": [
       "<div>\n",
       "<style scoped>\n",
       "    .dataframe tbody tr th:only-of-type {\n",
       "        vertical-align: middle;\n",
       "    }\n",
       "\n",
       "    .dataframe tbody tr th {\n",
       "        vertical-align: top;\n",
       "    }\n",
       "\n",
       "    .dataframe thead th {\n",
       "        text-align: right;\n",
       "    }\n",
       "</style>\n",
       "<table border=\"1\" class=\"dataframe\">\n",
       "  <thead>\n",
       "    <tr style=\"text-align: right;\">\n",
       "      <th></th>\n",
       "      <th>Longitude</th>\n",
       "      <th>Latitude</th>\n",
       "      <th>OBJECTID</th>\n",
       "      <th>PERSONCOUNT</th>\n",
       "      <th>PEDCOUNT</th>\n",
       "      <th>PEDCYLCOUNT</th>\n",
       "      <th>VEHCOUNT</th>\n",
       "      <th>INJURIES</th>\n",
       "      <th>SERIOUSINJURIES</th>\n",
       "      <th>FATALITIES</th>\n",
       "      <th>SDOT_COLCODE</th>\n",
       "      <th>SEGLANEKEY</th>\n",
       "      <th>CROSSWALKKEY</th>\n",
       "      <th>Year</th>\n",
       "      <th>Month</th>\n",
       "      <th>DayOfWeek</th>\n",
       "    </tr>\n",
       "    <tr>\n",
       "      <th>SEVERITYCODE</th>\n",
       "      <th></th>\n",
       "      <th></th>\n",
       "      <th></th>\n",
       "      <th></th>\n",
       "      <th></th>\n",
       "      <th></th>\n",
       "      <th></th>\n",
       "      <th></th>\n",
       "      <th></th>\n",
       "      <th></th>\n",
       "      <th></th>\n",
       "      <th></th>\n",
       "      <th></th>\n",
       "      <th></th>\n",
       "      <th></th>\n",
       "      <th></th>\n",
       "    </tr>\n",
       "  </thead>\n",
       "  <tbody>\n",
       "    <tr>\n",
       "      <th>0</th>\n",
       "      <td>-2.396133e+06</td>\n",
       "      <td>9.328793e+05</td>\n",
       "      <td>2663107162</td>\n",
       "      <td>4163</td>\n",
       "      <td>2</td>\n",
       "      <td>0</td>\n",
       "      <td>1</td>\n",
       "      <td>0</td>\n",
       "      <td>0</td>\n",
       "      <td>0</td>\n",
       "      <td>169920.0</td>\n",
       "      <td>661866</td>\n",
       "      <td>20735568</td>\n",
       "      <td>43576631</td>\n",
       "      <td>145048</td>\n",
       "      <td>61689</td>\n",
       "    </tr>\n",
       "    <tr>\n",
       "      <th>1</th>\n",
       "      <td>-1.633127e+07</td>\n",
       "      <td>6.357157e+06</td>\n",
       "      <td>14973946307</td>\n",
       "      <td>320848</td>\n",
       "      <td>726</td>\n",
       "      <td>688</td>\n",
       "      <td>267986</td>\n",
       "      <td>0</td>\n",
       "      <td>0</td>\n",
       "      <td>0</td>\n",
       "      <td>1794859.0</td>\n",
       "      <td>6274252</td>\n",
       "      <td>208617840</td>\n",
       "      <td>277090507</td>\n",
       "      <td>900416</td>\n",
       "      <td>407403</td>\n",
       "    </tr>\n",
       "    <tr>\n",
       "      <th>2</th>\n",
       "      <td>-7.067007e+06</td>\n",
       "      <td>2.751066e+06</td>\n",
       "      <td>6568319764</td>\n",
       "      <td>159671</td>\n",
       "      <td>6587</td>\n",
       "      <td>4911</td>\n",
       "      <td>110099</td>\n",
       "      <td>78206</td>\n",
       "      <td>0</td>\n",
       "      <td>0</td>\n",
       "      <td>932382.0</td>\n",
       "      <td>46618004</td>\n",
       "      <td>1700550342</td>\n",
       "      <td>118354555</td>\n",
       "      <td>386639</td>\n",
       "      <td>170334</td>\n",
       "    </tr>\n",
       "    <tr>\n",
       "      <th>2b</th>\n",
       "      <td>-3.740919e+05</td>\n",
       "      <td>1.456209e+05</td>\n",
       "      <td>339221109</td>\n",
       "      <td>8012</td>\n",
       "      <td>982</td>\n",
       "      <td>437</td>\n",
       "      <td>4890</td>\n",
       "      <td>4425</td>\n",
       "      <td>3268</td>\n",
       "      <td>0</td>\n",
       "      <td>62672.0</td>\n",
       "      <td>4418777</td>\n",
       "      <td>165672895</td>\n",
       "      <td>6256715</td>\n",
       "      <td>20355</td>\n",
       "      <td>9221</td>\n",
       "    </tr>\n",
       "    <tr>\n",
       "      <th>3</th>\n",
       "      <td>-4.195915e+04</td>\n",
       "      <td>1.633116e+04</td>\n",
       "      <td>39191450</td>\n",
       "      <td>1057</td>\n",
       "      <td>150</td>\n",
       "      <td>28</td>\n",
       "      <td>506</td>\n",
       "      <td>291</td>\n",
       "      <td>103</td>\n",
       "      <td>377</td>\n",
       "      <td>7723.0</td>\n",
       "      <td>260997</td>\n",
       "      <td>26022290</td>\n",
       "      <td>707988</td>\n",
       "      <td>2448</td>\n",
       "      <td>1107</td>\n",
       "    </tr>\n",
       "  </tbody>\n",
       "</table>\n",
       "</div>"
      ],
      "text/plain": [
       "                 Longitude      Latitude     OBJECTID  PERSONCOUNT  PEDCOUNT  \\\n",
       "SEVERITYCODE                                                                   \n",
       "0            -2.396133e+06  9.328793e+05   2663107162         4163         2   \n",
       "1            -1.633127e+07  6.357157e+06  14973946307       320848       726   \n",
       "2            -7.067007e+06  2.751066e+06   6568319764       159671      6587   \n",
       "2b           -3.740919e+05  1.456209e+05    339221109         8012       982   \n",
       "3            -4.195915e+04  1.633116e+04     39191450         1057       150   \n",
       "\n",
       "              PEDCYLCOUNT  VEHCOUNT  INJURIES  SERIOUSINJURIES  FATALITIES  \\\n",
       "SEVERITYCODE                                                                 \n",
       "0                       0         1         0                0           0   \n",
       "1                     688    267986         0                0           0   \n",
       "2                    4911    110099     78206                0           0   \n",
       "2b                    437      4890      4425             3268           0   \n",
       "3                      28       506       291              103         377   \n",
       "\n",
       "              SDOT_COLCODE  SEGLANEKEY  CROSSWALKKEY       Year   Month  \\\n",
       "SEVERITYCODE                                                              \n",
       "0                 169920.0      661866      20735568   43576631  145048   \n",
       "1                1794859.0     6274252     208617840  277090507  900416   \n",
       "2                 932382.0    46618004    1700550342  118354555  386639   \n",
       "2b                 62672.0     4418777     165672895    6256715   20355   \n",
       "3                   7723.0      260997      26022290     707988    2448   \n",
       "\n",
       "              DayOfWeek  \n",
       "SEVERITYCODE             \n",
       "0                 61689  \n",
       "1                407403  \n",
       "2                170334  \n",
       "2b                 9221  \n",
       "3                  1107  "
      ]
     },
     "execution_count": 13,
     "metadata": {},
     "output_type": "execute_result"
    }
   ],
   "source": [
    "df.groupby('SEVERITYCODE').sum()"
   ]
  },
  {
   "cell_type": "markdown",
   "metadata": {},
   "source": [
    "### Exploring the severity of the accidents for the people involved, either drivers, bikers or pedestrians\n",
    "\n",
    "##### Let's plot two more bar plots and look at the counts of people involved in an accident, split into the different ranking of severity of the accident: from no injury to fatality, with 5 increasing levels of severity (1, 2, 3, 4, 5 with 1 corresponding to no injuries and 5 corresponding to fatality)"
   ]
  },
  {
   "cell_type": "code",
   "execution_count": 14,
   "metadata": {},
   "outputs": [
    {
     "data": {
      "image/png": "[encoded data removed]",
      "text/plain": [
       "<Figure size 432x288 with 1 Axes>"
      ]
     },
     "metadata": {
      "needs_background": "light"
     },
     "output_type": "display_data"
    },
    {
     "data": {
      "image/png": "[encoded data removed]",
      "text/plain": [
       "<Figure size 432x288 with 1 Axes>"
      ]
     },
     "metadata": {
      "needs_background": "light"
     },
     "output_type": "display_data"
    }
   ],
   "source": [
    "# I'll start by replacing the text cirresponding to the severity code with numeric values, from 1 to 5:\n",
    "\n",
    "df['SEVERITYCODE'].replace(to_replace=['0', '1', '2', '2b', '3'], value=[1, 2, 3, 4, 5], inplace=True)\n",
    "\n",
    "df[['SEVERITYCODE','PERSONCOUNT', 'VEHCOUNT']].groupby('SEVERITYCODE').sum().plot(kind='bar', color=('darkgreen', 'dodgerblue'))\n",
    "\n",
    "plt.title('People and cars involved in accidents vs severity of the accident \\n')\n",
    "plt.ylabel('Counts')\n",
    "plt.xlabel('Severity code')\n",
    "\n",
    "plt.show()\n",
    "\n",
    "df[['SEVERITYCODE', 'PEDCOUNT', 'PEDCYLCOUNT']].groupby('SEVERITYCODE').sum().plot(kind='bar', color=('red', 'orange'))\n",
    "\n",
    "plt.title('Pedestrians and bikers involved in accidents vs severity of the accident \\n')\n",
    "plt.ylabel('Counts')\n",
    "plt.xlabel('Severity code')\n",
    "\n",
    "plt.show()"
   ]
  },
  {
   "cell_type": "markdown",
   "metadata": {},
   "source": [
    "##### It is worth noticing that the accidents result in more severe outcomes for bikers and pedestrians. While this can be expected, it is a good example of an efficient use of data to identify issues and suggest improvements."
   ]
  },
  {
   "cell_type": "markdown",
   "metadata": {},
   "source": [
    "### Exploring the severity of the accidents depending on variables such as the weather and the conditions of the illumination and of the road \n",
    "\n",
    "##### Let's quickly plot four bar plots and look at the counts of people involved in an accident depending on the weather, illumination and road conditions"
   ]
  },
  {
   "cell_type": "code",
   "execution_count": 15,
   "metadata": {},
   "outputs": [
    {
     "data": {
      "image/png": "[encoded data removed]",
      "text/plain": [
       "<Figure size 432x288 with 1 Axes>"
      ]
     },
     "metadata": {
      "needs_background": "light"
     },
     "output_type": "display_data"
    },
    {
     "data": {
      "image/png": "[encoded data removed]",
      "text/plain": [
       "<Figure size 432x288 with 1 Axes>"
      ]
     },
     "metadata": {
      "needs_background": "light"
     },
     "output_type": "display_data"
    },
    {
     "data": {
      "image/png": "[encoded data removed]",
      "text/plain": [
       "<Figure size 432x288 with 1 Axes>"
      ]
     },
     "metadata": {
      "needs_background": "light"
     },
     "output_type": "display_data"
    }
   ],
   "source": [
    "df[['WEATHER','PERSONCOUNT']].groupby('WEATHER').sum().plot(kind='bar', color=('dodgerblue'))\n",
    "\n",
    "plt.title('People involved in accidents vs weather conditions \\n')\n",
    "plt.ylabel('Counts')\n",
    "plt.xlabel('Weather conditions')\n",
    "\n",
    "plt.show()\n",
    "\n",
    "df[['LIGHTCOND','PERSONCOUNT']].groupby('LIGHTCOND').sum().plot(kind='bar', color=('darkgreen'))\n",
    "\n",
    "plt.title('People involved in accidents vs light conditions \\n')\n",
    "plt.ylabel('Counts')\n",
    "plt.xlabel('Light conditions')\n",
    "\n",
    "plt.show()\n",
    "\n",
    "df[['ROADCOND','PERSONCOUNT']].groupby('ROADCOND').sum().plot(kind='bar', color=('darkorange'))\n",
    "\n",
    "plt.title('People involved in accidents vs road conditions \\n')\n",
    "plt.ylabel('Counts')\n",
    "plt.xlabel('Road conditions')\n",
    "\n",
    "plt.show()"
   ]
  },
  {
   "cell_type": "code",
   "execution_count": 16,
   "metadata": {},
   "outputs": [],
   "source": [
    "# Now we can replace some descriptive features as numerical values, as we did with the Severity Score\n",
    "\n",
    "df['WEATHER'].replace(to_replace=['Clear', 'Raining', 'Overcast', 'Unknown', 'Fog/Smog/Smoke', 'Snowing', 'Other', 'Sleet/Hail/Freezing Rain', 'Blowing Sand/Dirt', 'Severe Crosswind', 'Partly Cloudy', 'Blowing Snow'], value=[1, 2, 3, 4, 5, 6, 7, 8, 9, 10, 11, 12], inplace=True)\n",
    "\n",
    "df['ROADCOND'].replace(to_replace=['Dry','Wet', 'Unknown', 'Ice', 'Snow/Slush', 'Other', 'Standing Water', 'Sand/Mud/Dirt', 'Oil'], value=[1, 2, 3, 4, 5, 6, 7, 8, 9], inplace=True)\n",
    "\n",
    "df['LIGHTCOND'].replace(to_replace=['Daylight', 'Dark - Street Lights On', 'Unknown', 'Dusk', 'Dawn', 'Dark - No Street Lights', 'Dark - Street Lights Off', 'Other', 'Dark - Unknown Lighting'], value=[1, 2, 3, 4, 5, 6, 7, 8, 9], inplace=True)\n",
    "\n",
    "df['COLLISIONTYPE'].replace(to_replace=['Parked Car', 'Angles', 'Rear Ended', 'Other', 'Sideswipe', 'Left Turn', 'Right Turn', 'Head On', 'Pedestrian', 'Cycles'], value=[1, 2, 3, 4, 5, 6, 7, 8, 9, 10], inplace=True) \n",
    "\n",
    "df['JUNCTIONTYPE'].replace(to_replace=['At Intersection (intersection related)', 'Mid-Block (not related to intersection)','Mid-Block (but intersection related)','Driveway Junction', 'At Intersection (but not related to intersection)', 'Ramp Junction', 'Unknown'], value=[1, 2, 3, 4, 5, 6, 7], inplace=True)\n",
    "\n",
    "df['Address type'].replace(to_replace=['Block','Intersection', 'Alley'], value=[1, 2, 3],inplace=True)\n",
    "\n",
    "df['HITPARKEDCAR'].replace(to_replace=['N', 'Y'], value=[0, 1], inplace=True)"
   ]
  },
  {
   "cell_type": "code",
   "execution_count": 17,
   "metadata": {},
   "outputs": [
    {
     "data": {
      "text/plain": [
       "Longitude          0.014078\n",
       "Latitude           0.014078\n",
       "OBJECTID           0.000000\n",
       "Address type       0.000000\n",
       "LOCATION           0.000000\n",
       "SEVERITYCODE       0.000000\n",
       "SEVERITYDESC       0.000000\n",
       "COLLISIONTYPE      0.000000\n",
       "PERSONCOUNT        0.000000\n",
       "PEDCOUNT           0.000000\n",
       "PEDCYLCOUNT        0.000000\n",
       "VEHCOUNT           0.000000\n",
       "INJURIES           0.000000\n",
       "SERIOUSINJURIES    0.000000\n",
       "FATALITIES         0.000000\n",
       "INCDATE            0.000000\n",
       "JUNCTIONTYPE       0.000000\n",
       "SDOT_COLCODE       0.000000\n",
       "INATTENTIONIND     0.842820\n",
       "UNDERINFL          0.000005\n",
       "WEATHER            0.000000\n",
       "ROADCOND           0.000000\n",
       "LIGHTCOND          0.000000\n",
       "SPEEDING           0.948036\n",
       "ST_COLCODE         0.000000\n",
       "SEGLANEKEY         0.000000\n",
       "CROSSWALKKEY       0.000000\n",
       "HITPARKEDCAR       0.000000\n",
       "Year               0.000000\n",
       "Month              0.000000\n",
       "DayOfWeek          0.000000\n",
       "dtype: float64"
      ]
     },
     "execution_count": 17,
     "metadata": {},
     "output_type": "execute_result"
    }
   ],
   "source": [
    "# Then, we drop the NA values from the columns we are interested in\n",
    "\n",
    "df = df.dropna(subset = ['WEATHER','ROADCOND','LIGHTCOND','COLLISIONTYPE','LOCATION','JUNCTIONTYPE','Address type'])\n",
    "df.isna().sum()/len(df)"
   ]
  },
  {
   "cell_type": "code",
   "execution_count": 18,
   "metadata": {},
   "outputs": [
    {
     "data": {
      "text/plain": [
       "2.0    127397\n",
       "3.0     57325\n",
       "4.0      3028\n",
       "5.0       338\n",
       "1.0         2\n",
       "Name: SEVERITYCODE, dtype: int64"
      ]
     },
     "execution_count": 18,
     "metadata": {},
     "output_type": "execute_result"
    }
   ],
   "source": [
    "df['SEVERITYCODE'].value_counts()"
   ]
  },
  {
   "cell_type": "markdown",
   "metadata": {},
   "source": [
    "# Building machine-learning based models using our dataset"
   ]
  },
  {
   "cell_type": "code",
   "execution_count": 19,
   "metadata": {},
   "outputs": [],
   "source": [
    "# Let's start by importing a few more libraries\n",
    "\n",
    "import itertools as it\n",
    "import pylab as pl\n",
    "import scipy.optimize as opt\n",
    "import pydotplus\n",
    "import matplotlib.image as mpimg\n",
    "from matplotlib.ticker import NullFormatter\n",
    "from sklearn import svm\n",
    "from sklearn import tree\n",
    "from sklearn import metrics\n",
    "from sklearn import preprocessing\n",
    "from sklearn.metrics import jaccard_similarity_score\n",
    "from sklearn.metrics import f1_score\n",
    "from sklearn.metrics import log_loss\n",
    "from sklearn.metrics import accuracy_score\n",
    "from sklearn.metrics import confusion_matrix\n",
    "from sklearn.tree import DecisionTreeClassifier\n",
    "from sklearn.neighbors import KNeighborsClassifier\n",
    "from sklearn.linear_model import LogisticRegression\n",
    "from sklearn.externals.six import StringIO\n",
    "from sklearn.model_selection import train_test_split"
   ]
  },
  {
   "cell_type": "markdown",
   "metadata": {},
   "source": [
    "### Defining the dataset that will be employed for all models"
   ]
  },
  {
   "cell_type": "code",
   "execution_count": 20,
   "metadata": {},
   "outputs": [
    {
     "data": {
      "text/html": [
       "<div>\n",
       "<style scoped>\n",
       "    .dataframe tbody tr th:only-of-type {\n",
       "        vertical-align: middle;\n",
       "    }\n",
       "\n",
       "    .dataframe tbody tr th {\n",
       "        vertical-align: top;\n",
       "    }\n",
       "\n",
       "    .dataframe thead th {\n",
       "        text-align: right;\n",
       "    }\n",
       "</style>\n",
       "<table border=\"1\" class=\"dataframe\">\n",
       "  <thead>\n",
       "    <tr style=\"text-align: right;\">\n",
       "      <th></th>\n",
       "      <th>WEATHER</th>\n",
       "      <th>ROADCOND</th>\n",
       "      <th>LIGHTCOND</th>\n",
       "      <th>Address type</th>\n",
       "      <th>COLLISIONTYPE</th>\n",
       "      <th>JUNCTIONTYPE</th>\n",
       "      <th>VEHCOUNT</th>\n",
       "      <th>PEDCOUNT</th>\n",
       "      <th>PEDCYLCOUNT</th>\n",
       "    </tr>\n",
       "  </thead>\n",
       "  <tbody>\n",
       "    <tr>\n",
       "      <th>0</th>\n",
       "      <td>1.0</td>\n",
       "      <td>1.0</td>\n",
       "      <td>1.0</td>\n",
       "      <td>2.0</td>\n",
       "      <td>2.0</td>\n",
       "      <td>1.0</td>\n",
       "      <td>2</td>\n",
       "      <td>0</td>\n",
       "      <td>0</td>\n",
       "    </tr>\n",
       "    <tr>\n",
       "      <th>1</th>\n",
       "      <td>2.0</td>\n",
       "      <td>2.0</td>\n",
       "      <td>4.0</td>\n",
       "      <td>1.0</td>\n",
       "      <td>3.0</td>\n",
       "      <td>2.0</td>\n",
       "      <td>2</td>\n",
       "      <td>0</td>\n",
       "      <td>0</td>\n",
       "    </tr>\n",
       "    <tr>\n",
       "      <th>2</th>\n",
       "      <td>1.0</td>\n",
       "      <td>1.0</td>\n",
       "      <td>2.0</td>\n",
       "      <td>1.0</td>\n",
       "      <td>8.0</td>\n",
       "      <td>2.0</td>\n",
       "      <td>2</td>\n",
       "      <td>0</td>\n",
       "      <td>0</td>\n",
       "    </tr>\n",
       "    <tr>\n",
       "      <th>3</th>\n",
       "      <td>2.0</td>\n",
       "      <td>2.0</td>\n",
       "      <td>2.0</td>\n",
       "      <td>2.0</td>\n",
       "      <td>9.0</td>\n",
       "      <td>1.0</td>\n",
       "      <td>1</td>\n",
       "      <td>1</td>\n",
       "      <td>0</td>\n",
       "    </tr>\n",
       "    <tr>\n",
       "      <th>4</th>\n",
       "      <td>1.0</td>\n",
       "      <td>4.0</td>\n",
       "      <td>2.0</td>\n",
       "      <td>1.0</td>\n",
       "      <td>4.0</td>\n",
       "      <td>2.0</td>\n",
       "      <td>1</td>\n",
       "      <td>0</td>\n",
       "      <td>0</td>\n",
       "    </tr>\n",
       "    <tr>\n",
       "      <th>...</th>\n",
       "      <td>...</td>\n",
       "      <td>...</td>\n",
       "      <td>...</td>\n",
       "      <td>...</td>\n",
       "      <td>...</td>\n",
       "      <td>...</td>\n",
       "      <td>...</td>\n",
       "      <td>...</td>\n",
       "      <td>...</td>\n",
       "    </tr>\n",
       "    <tr>\n",
       "      <th>221732</th>\n",
       "      <td>1.0</td>\n",
       "      <td>1.0</td>\n",
       "      <td>2.0</td>\n",
       "      <td>1.0</td>\n",
       "      <td>3.0</td>\n",
       "      <td>3.0</td>\n",
       "      <td>2</td>\n",
       "      <td>0</td>\n",
       "      <td>0</td>\n",
       "    </tr>\n",
       "    <tr>\n",
       "      <th>221734</th>\n",
       "      <td>1.0</td>\n",
       "      <td>1.0</td>\n",
       "      <td>1.0</td>\n",
       "      <td>1.0</td>\n",
       "      <td>5.0</td>\n",
       "      <td>2.0</td>\n",
       "      <td>2</td>\n",
       "      <td>0</td>\n",
       "      <td>0</td>\n",
       "    </tr>\n",
       "    <tr>\n",
       "      <th>221735</th>\n",
       "      <td>1.0</td>\n",
       "      <td>1.0</td>\n",
       "      <td>1.0</td>\n",
       "      <td>2.0</td>\n",
       "      <td>2.0</td>\n",
       "      <td>1.0</td>\n",
       "      <td>2</td>\n",
       "      <td>0</td>\n",
       "      <td>0</td>\n",
       "    </tr>\n",
       "    <tr>\n",
       "      <th>221736</th>\n",
       "      <td>1.0</td>\n",
       "      <td>1.0</td>\n",
       "      <td>1.0</td>\n",
       "      <td>2.0</td>\n",
       "      <td>2.0</td>\n",
       "      <td>1.0</td>\n",
       "      <td>2</td>\n",
       "      <td>0</td>\n",
       "      <td>0</td>\n",
       "    </tr>\n",
       "    <tr>\n",
       "      <th>221737</th>\n",
       "      <td>2.0</td>\n",
       "      <td>2.0</td>\n",
       "      <td>1.0</td>\n",
       "      <td>1.0</td>\n",
       "      <td>1.0</td>\n",
       "      <td>2.0</td>\n",
       "      <td>2</td>\n",
       "      <td>0</td>\n",
       "      <td>0</td>\n",
       "    </tr>\n",
       "  </tbody>\n",
       "</table>\n",
       "<p>188090 rows × 9 columns</p>\n",
       "</div>"
      ],
      "text/plain": [
       "        WEATHER  ROADCOND  LIGHTCOND  Address type  COLLISIONTYPE  \\\n",
       "0           1.0       1.0        1.0           2.0            2.0   \n",
       "1           2.0       2.0        4.0           1.0            3.0   \n",
       "2           1.0       1.0        2.0           1.0            8.0   \n",
       "3           2.0       2.0        2.0           2.0            9.0   \n",
       "4           1.0       4.0        2.0           1.0            4.0   \n",
       "...         ...       ...        ...           ...            ...   \n",
       "221732      1.0       1.0        2.0           1.0            3.0   \n",
       "221734      1.0       1.0        1.0           1.0            5.0   \n",
       "221735      1.0       1.0        1.0           2.0            2.0   \n",
       "221736      1.0       1.0        1.0           2.0            2.0   \n",
       "221737      2.0       2.0        1.0           1.0            1.0   \n",
       "\n",
       "        JUNCTIONTYPE  VEHCOUNT  PEDCOUNT  PEDCYLCOUNT  \n",
       "0                1.0         2         0            0  \n",
       "1                2.0         2         0            0  \n",
       "2                2.0         2         0            0  \n",
       "3                1.0         1         1            0  \n",
       "4                2.0         1         0            0  \n",
       "...              ...       ...       ...          ...  \n",
       "221732           3.0         2         0            0  \n",
       "221734           2.0         2         0            0  \n",
       "221735           1.0         2         0            0  \n",
       "221736           1.0         2         0            0  \n",
       "221737           2.0         2         0            0  \n",
       "\n",
       "[188090 rows x 9 columns]"
      ]
     },
     "execution_count": 20,
     "metadata": {},
     "output_type": "execute_result"
    }
   ],
   "source": [
    "# We start by defining a new dataframe that is a selection of the one we have worked on so far\n",
    "\n",
    "# This correspond to a dataframe containing the independent variables that we are interested in\n",
    "\n",
    "X = df[['WEATHER', 'ROADCOND', 'LIGHTCOND', 'Address type', 'COLLISIONTYPE', 'JUNCTIONTYPE', 'VEHCOUNT', 'PEDCOUNT', 'PEDCYLCOUNT']]\n",
    "X"
   ]
  },
  {
   "cell_type": "code",
   "execution_count": 21,
   "metadata": {},
   "outputs": [
    {
     "data": {
      "text/plain": [
       "array([2., 2., 3., ..., 3., 3., 3.])"
      ]
     },
     "execution_count": 21,
     "metadata": {},
     "output_type": "execute_result"
    }
   ],
   "source": [
    "# As a dependent variable, we are interested in the severity score of the accidents\n",
    "\n",
    "y = df['SEVERITYCODE'].values\n",
    "y"
   ]
  },
  {
   "cell_type": "markdown",
   "metadata": {},
   "source": [
    "### Train-test splitting, 70% - 30%"
   ]
  },
  {
   "cell_type": "code",
   "execution_count": 22,
   "metadata": {},
   "outputs": [
    {
     "name": "stdout",
     "output_type": "stream",
     "text": [
      "Train set: (131663, 9) (131663,)\n",
      "Test set: (56427, 9) (56427,)\n"
     ]
    }
   ],
   "source": [
    "# Here we perform the splitting:\n",
    "\n",
    "X_train, X_test, y_train, y_test = train_test_split(X, y, test_size=0.3, random_state=4)\n",
    "print ('Train set:', X_train.shape,  y_train.shape)\n",
    "print ('Test set:', X_test.shape,  y_test.shape)"
   ]
  },
  {
   "cell_type": "code",
   "execution_count": 23,
   "metadata": {},
   "outputs": [
    {
     "name": "stderr",
     "output_type": "stream",
     "text": [
      "/home/jupyterlab/conda/envs/python/lib/python3.6/site-packages/sklearn/preprocessing/data.py:625: DataConversionWarning: Data with input dtype int64, float64 were all converted to float64 by StandardScaler.\n",
      "  return self.partial_fit(X, y)\n",
      "/home/jupyterlab/conda/envs/python/lib/python3.6/site-packages/ipykernel_launcher.py:3: DataConversionWarning: Data with input dtype int64, float64 were all converted to float64 by StandardScaler.\n",
      "  This is separate from the ipykernel package so we can avoid doing imports until\n"
     ]
    },
    {
     "data": {
      "text/plain": [
       "array([[-0.67324688, -0.58843044, -0.57829912, ...,  0.06009501,\n",
       "        -0.20396571, -0.17972776],\n",
       "       [ 0.24946407,  0.78165054,  2.27329828, ...,  0.06009501,\n",
       "        -0.20396571, -0.17972776],\n",
       "       [-0.67324688, -0.58843044,  0.37223335, ...,  0.06009501,\n",
       "        -0.20396571, -0.17972776],\n",
       "       ...,\n",
       "       [-0.67324688, -0.58843044, -0.57829912, ...,  0.06009501,\n",
       "        -0.20396571, -0.17972776],\n",
       "       [-0.67324688, -0.58843044, -0.57829912, ...,  0.06009501,\n",
       "        -0.20396571, -0.17972776],\n",
       "       [ 0.24946407,  0.78165054, -0.57829912, ...,  0.06009501,\n",
       "        -0.20396571, -0.17972776]])"
      ]
     },
     "execution_count": 23,
     "metadata": {},
     "output_type": "execute_result"
    }
   ],
   "source": [
    "# And here we normalize:\n",
    "\n",
    "X= preprocessing.StandardScaler().fit(X).transform(X)\n",
    "X"
   ]
  },
  {
   "cell_type": "markdown",
   "metadata": {},
   "source": [
    "# Model 1: Decision Tree"
   ]
  },
  {
   "cell_type": "markdown",
   "metadata": {},
   "source": [
    "### Modeling"
   ]
  },
  {
   "cell_type": "code",
   "execution_count": 24,
   "metadata": {},
   "outputs": [
    {
     "data": {
      "text/plain": [
       "DecisionTreeClassifier(class_weight=None, criterion='entropy', max_depth=4,\n",
       "            max_features=None, max_leaf_nodes=None,\n",
       "            min_impurity_decrease=0.0, min_impurity_split=None,\n",
       "            min_samples_leaf=1, min_samples_split=2,\n",
       "            min_weight_fraction_leaf=0.0, presort=False, random_state=None,\n",
       "            splitter='best')"
      ]
     },
     "execution_count": 24,
     "metadata": {},
     "output_type": "execute_result"
    }
   ],
   "source": [
    "DT = DecisionTreeClassifier(criterion=\"entropy\", max_depth = 4)\n",
    "DT # it shows the default parameters"
   ]
  },
  {
   "cell_type": "code",
   "execution_count": 25,
   "metadata": {},
   "outputs": [
    {
     "data": {
      "text/plain": [
       "DecisionTreeClassifier(class_weight=None, criterion='entropy', max_depth=4,\n",
       "            max_features=None, max_leaf_nodes=None,\n",
       "            min_impurity_decrease=0.0, min_impurity_split=None,\n",
       "            min_samples_leaf=1, min_samples_split=2,\n",
       "            min_weight_fraction_leaf=0.0, presort=False, random_state=None,\n",
       "            splitter='best')"
      ]
     },
     "execution_count": 25,
     "metadata": {},
     "output_type": "execute_result"
    }
   ],
   "source": [
    "DT.fit(X_train,y_train)"
   ]
  },
  {
   "cell_type": "markdown",
   "metadata": {},
   "source": [
    "### Prediction"
   ]
  },
  {
   "cell_type": "code",
   "execution_count": 26,
   "metadata": {},
   "outputs": [
    {
     "name": "stdout",
     "output_type": "stream",
     "text": [
      "[2. 2. 2. 2. 2.]\n",
      "[2. 3. 2. 2. 2.]\n"
     ]
    }
   ],
   "source": [
    "PredictionTree = DT.predict(X_test)\n",
    "print (PredictionTree [0:5])\n",
    "print (y_test [0:5])"
   ]
  },
  {
   "cell_type": "markdown",
   "metadata": {},
   "source": [
    "### Evaluation"
   ]
  },
  {
   "cell_type": "code",
   "execution_count": 27,
   "metadata": {},
   "outputs": [
    {
     "name": "stdout",
     "output_type": "stream",
     "text": [
      "DecisionTrees's Accuracy:  0.7333723217608592 \n",
      "\n",
      "DT Jaccard index:  0.7333723217608592 \n",
      "\n",
      "DT F1-score:  0.6845456460657843 \n",
      "\n"
     ]
    },
    {
     "name": "stderr",
     "output_type": "stream",
     "text": [
      "/home/jupyterlab/conda/envs/python/lib/python3.6/site-packages/sklearn/metrics/classification.py:1143: UndefinedMetricWarning: F-score is ill-defined and being set to 0.0 in labels with no predicted samples.\n",
      "  'precision', 'predicted', average, warn_for)\n"
     ]
    }
   ],
   "source": [
    "print(\"DecisionTrees's Accuracy: \", metrics.accuracy_score(y_test, PredictionTree), \"\\n\")\n",
    "\n",
    "# Jaccard Score\n",
    "DT_jaccard = jaccard_similarity_score(y_test, PredictionTree)\n",
    "print(\"DT Jaccard index: \", DT_jaccard, \"\\n\")\n",
    "\n",
    "# F1 score\n",
    "DT_f1_score = f1_score(y_test, PredictionTree, average='weighted')\n",
    "print(\"DT F1-score: \", DT_f1_score, \"\\n\")"
   ]
  },
  {
   "cell_type": "markdown",
   "metadata": {},
   "source": [
    "# Model 2: K-Nearest Neighbors"
   ]
  },
  {
   "cell_type": "markdown",
   "metadata": {},
   "source": [
    "### Modeling"
   ]
  },
  {
   "cell_type": "code",
   "execution_count": 28,
   "metadata": {},
   "outputs": [
    {
     "data": {
      "text/plain": [
       "KNeighborsClassifier(algorithm='auto', leaf_size=30, metric='minkowski',\n",
       "           metric_params=None, n_jobs=None, n_neighbors=4, p=2,\n",
       "           weights='uniform')"
      ]
     },
     "execution_count": 28,
     "metadata": {},
     "output_type": "execute_result"
    }
   ],
   "source": [
    "k = 4\n",
    "neigh = KNeighborsClassifier(n_neighbors = k).fit(X_train,y_train)\n",
    "neigh"
   ]
  },
  {
   "cell_type": "markdown",
   "metadata": {},
   "source": [
    "### Prediction"
   ]
  },
  {
   "cell_type": "code",
   "execution_count": 29,
   "metadata": {},
   "outputs": [
    {
     "data": {
      "text/plain": [
       "array([3., 2., 2., 2., 3.])"
      ]
     },
     "execution_count": 29,
     "metadata": {},
     "output_type": "execute_result"
    }
   ],
   "source": [
    "PredictionKNN = neigh.predict(X_test)\n",
    "PredictionKNN[0:5]"
   ]
  },
  {
   "cell_type": "code",
   "execution_count": 30,
   "metadata": {},
   "outputs": [
    {
     "data": {
      "text/plain": [
       "array([0.64651674, 0.67777837, 0.66083612, 0.67811509, 0.6625906 ,\n",
       "       0.69752069, 0.69002428, 0.69803463, 0.69289525])"
      ]
     },
     "execution_count": 30,
     "metadata": {},
     "output_type": "execute_result"
    }
   ],
   "source": [
    "Ks = 10\n",
    "mean_acc = np.zeros((Ks-1))\n",
    "std_acc = np.zeros((Ks-1))\n",
    "ConfustionMx = [];\n",
    "for n in range(1,Ks):\n",
    "    \n",
    "    #Train Model and Predict  \n",
    "    neigh = KNeighborsClassifier(n_neighbors = n).fit(X_train,y_train)\n",
    "    PredictionKNN=neigh.predict(X_test)\n",
    "    mean_acc[n-1] = metrics.accuracy_score(y_test, PredictionKNN)\n",
    "    \n",
    "    std_acc[n-1]=np.std(PredictionKNN==y_test)/np.sqrt(PredictionKNN.shape[0])\n",
    "\n",
    "mean_acc "
   ]
  },
  {
   "cell_type": "code",
   "execution_count": 31,
   "metadata": {},
   "outputs": [
    {
     "name": "stdout",
     "output_type": "stream",
     "text": [
      "The best accuracy was with 0.6980346288124479 with k = 8 \n",
      "\n"
     ]
    }
   ],
   "source": [
    "print(\"The best accuracy was with\", mean_acc.max(), \"with k =\", mean_acc.argmax()+1, \"\\n\")"
   ]
  },
  {
   "cell_type": "code",
   "execution_count": 32,
   "metadata": {},
   "outputs": [
    {
     "data": {
      "image/png": "[encoded data removed]",
      "text/plain": [
       "<Figure size 432x288 with 1 Axes>"
      ]
     },
     "metadata": {
      "needs_background": "light"
     },
     "output_type": "display_data"
    }
   ],
   "source": [
    "# Let's plot the results of the accuracy as a function of k:\n",
    "\n",
    "plt.plot(range(1,Ks),mean_acc,'g')\n",
    "plt.fill_between(range(1,Ks),mean_acc - 1 * std_acc,mean_acc + 1 * std_acc, alpha=0.10)\n",
    "plt.legend(('Accuracy ', '+/- 3xstd'))\n",
    "plt.ylabel('Accuracy ')\n",
    "plt.xlabel('Number of Neighbors (K)')\n",
    "plt.tight_layout()\n",
    "plt.show()"
   ]
  },
  {
   "cell_type": "code",
   "execution_count": 33,
   "metadata": {},
   "outputs": [
    {
     "data": {
      "text/plain": [
       "array([3., 3., 2., 2., 3.])"
      ]
     },
     "execution_count": 33,
     "metadata": {},
     "output_type": "execute_result"
    }
   ],
   "source": [
    "# We can run the model again with the k yielding the best accuracy:\n",
    "\n",
    "k = 8\n",
    "neighBest = KNeighborsClassifier(n_neighbors = k).fit(X_train,y_train)\n",
    "PredictionBestKNN = neighBest.predict(X_test)\n",
    "PredictionBestKNN[0:5]"
   ]
  },
  {
   "cell_type": "markdown",
   "metadata": {},
   "source": [
    "### Evaluation"
   ]
  },
  {
   "cell_type": "code",
   "execution_count": 34,
   "metadata": {},
   "outputs": [
    {
     "name": "stdout",
     "output_type": "stream",
     "text": [
      "The best test set accuracy was with 0.6980346288124479 with k= 8 \n",
      "\n",
      "KNN Jaccard index:  0.6980346288124479 \n",
      "\n",
      "KNN F1-score:  0.6843524045052954 \n",
      "\n"
     ]
    },
    {
     "name": "stderr",
     "output_type": "stream",
     "text": [
      "/home/jupyterlab/conda/envs/python/lib/python3.6/site-packages/sklearn/metrics/classification.py:1143: UndefinedMetricWarning: F-score is ill-defined and being set to 0.0 in labels with no predicted samples.\n",
      "  'precision', 'predicted', average, warn_for)\n"
     ]
    }
   ],
   "source": [
    "print(\"The best test set accuracy was with\", mean_acc.max(), \"with k=\", mean_acc.argmax()+1, \"\\n\") \n",
    "\n",
    "# Jaccard Score\n",
    "KNN_jaccard = jaccard_similarity_score(y_test, PredictionBestKNN)\n",
    "print(\"KNN Jaccard index: \", KNN_jaccard, \"\\n\")\n",
    "\n",
    "# F1 score\n",
    "KNN_f1_score = f1_score(y_test, PredictionBestKNN, average='weighted')\n",
    "print(\"KNN F1-score: \", KNN_f1_score, \"\\n\")"
   ]
  },
  {
   "cell_type": "markdown",
   "metadata": {},
   "source": [
    "# Model 3: Logistic Regression"
   ]
  },
  {
   "cell_type": "markdown",
   "metadata": {},
   "source": [
    "### Modeling"
   ]
  },
  {
   "cell_type": "code",
   "execution_count": 35,
   "metadata": {},
   "outputs": [
    {
     "name": "stderr",
     "output_type": "stream",
     "text": [
      "/home/jupyterlab/conda/envs/python/lib/python3.6/site-packages/sklearn/linear_model/logistic.py:460: FutureWarning: Default multi_class will be changed to 'auto' in 0.22. Specify the multi_class option to silence this warning.\n",
      "  \"this warning.\", FutureWarning)\n"
     ]
    }
   ],
   "source": [
    "LR = LogisticRegression(C=0.01, solver='liblinear').fit(X_train,y_train)"
   ]
  },
  {
   "cell_type": "markdown",
   "metadata": {},
   "source": [
    "### Prediction"
   ]
  },
  {
   "cell_type": "code",
   "execution_count": 36,
   "metadata": {},
   "outputs": [
    {
     "data": {
      "text/plain": [
       "array([[9.97404456e-04, 6.43697849e-01, 3.42082040e-01, 1.10055033e-02,\n",
       "        2.21720331e-03],\n",
       "       [4.16974072e-04, 7.26559773e-01, 2.55454611e-01, 1.51319481e-02,\n",
       "        2.43669400e-03],\n",
       "       [1.21707476e-05, 9.11662999e-01, 8.65901497e-02, 1.66790466e-03,\n",
       "        6.67759247e-05],\n",
       "       ...,\n",
       "       [1.67444214e-03, 7.76221596e-01, 2.09611947e-01, 1.03412592e-02,\n",
       "        2.15075558e-03],\n",
       "       [8.09989892e-04, 7.78480529e-01, 2.14512451e-01, 5.24605802e-03,\n",
       "        9.50972324e-04],\n",
       "       [1.76824322e-04, 6.77272247e-01, 3.12548789e-01, 9.18183724e-03,\n",
       "        8.20302554e-04]])"
      ]
     },
     "execution_count": 36,
     "metadata": {},
     "output_type": "execute_result"
    }
   ],
   "source": [
    "PredictionLR = LR.predict(X_test)\n",
    "PredictionLRProb = LR.predict_proba(X_test)\n",
    "PredictionLRProb"
   ]
  },
  {
   "cell_type": "markdown",
   "metadata": {},
   "source": [
    "### Evaluation"
   ]
  },
  {
   "cell_type": "code",
   "execution_count": 37,
   "metadata": {},
   "outputs": [
    {
     "name": "stdout",
     "output_type": "stream",
     "text": [
      "Logistic Regression Jaccard index:  0.7241923192797775 \n",
      "\n",
      "Logistic Regression F1-score:  0.6596232572945916 \n",
      "\n"
     ]
    },
    {
     "name": "stderr",
     "output_type": "stream",
     "text": [
      "/home/jupyterlab/conda/envs/python/lib/python3.6/site-packages/sklearn/metrics/classification.py:1143: UndefinedMetricWarning: F-score is ill-defined and being set to 0.0 in labels with no predicted samples.\n",
      "  'precision', 'predicted', average, warn_for)\n"
     ]
    }
   ],
   "source": [
    "# Jaccard Score\n",
    "LR_jaccard = jaccard_similarity_score(y_test, PredictionLR)\n",
    "print(\"Logistic Regression Jaccard index: \", LR_jaccard, \"\\n\")\n",
    "\n",
    "# F1 score\n",
    "LR_f1_score = f1_score(y_test, PredictionLR, average='weighted')\n",
    "print(\"Logistic Regression F1-score: \", LR_f1_score, \"\\n\")"
   ]
  },
  {
   "cell_type": "markdown",
   "metadata": {},
   "source": [
    "# Final comparison between the models"
   ]
  },
  {
   "cell_type": "markdown",
   "metadata": {},
   "source": [
    "##### Let's sum up the results of the models we used, by reporting the accuracy of each model in a small dataframe"
   ]
  },
  {
   "cell_type": "code",
   "execution_count": 45,
   "metadata": {},
   "outputs": [
    {
     "data": {
      "text/html": [
       "<div>\n",
       "<style scoped>\n",
       "    .dataframe tbody tr th:only-of-type {\n",
       "        vertical-align: middle;\n",
       "    }\n",
       "\n",
       "    .dataframe tbody tr th {\n",
       "        vertical-align: top;\n",
       "    }\n",
       "\n",
       "    .dataframe thead th {\n",
       "        text-align: right;\n",
       "    }\n",
       "</style>\n",
       "<table border=\"1\" class=\"dataframe\">\n",
       "  <thead>\n",
       "    <tr style=\"text-align: right;\">\n",
       "      <th>Algorithm</th>\n",
       "      <th>Jaccard</th>\n",
       "      <th>F1-score</th>\n",
       "    </tr>\n",
       "  </thead>\n",
       "  <tbody>\n",
       "    <tr>\n",
       "      <th>Decision Tree</th>\n",
       "      <td>0.733372</td>\n",
       "      <td>0.684546</td>\n",
       "    </tr>\n",
       "    <tr>\n",
       "      <th>K-Nearest Neighbors</th>\n",
       "      <td>0.698035</td>\n",
       "      <td>0.684352</td>\n",
       "    </tr>\n",
       "    <tr>\n",
       "      <th>Logistic Regression</th>\n",
       "      <td>0.724192</td>\n",
       "      <td>0.659623</td>\n",
       "    </tr>\n",
       "  </tbody>\n",
       "</table>\n",
       "</div>"
      ],
      "text/plain": [
       "Algorithm             Jaccard  F1-score\n",
       "Decision Tree        0.733372  0.684546\n",
       "K-Nearest Neighbors  0.698035  0.684352\n",
       "Logistic Regression  0.724192  0.659623"
      ]
     },
     "execution_count": 45,
     "metadata": {},
     "output_type": "execute_result"
    }
   ],
   "source": [
    "# Let's put the output accuracy in different lists: one for the Jaccard Index, one for the F1 score and one for the Log loss\n",
    "\n",
    "jaccard_score = [DT_jaccard, KNN_jaccard, LR_jaccard]\n",
    "\n",
    "f1_score = [DT_f1_score, KNN_f1_score, LR_f1_score]\n",
    "\n",
    "# fomulate the report format\n",
    "\n",
    "results = pd.DataFrame(jaccard_score, index=['Decision Tree', 'K-Nearest Neighbors', 'Logistic Regression'])\n",
    "results.columns = ['Jaccard']\n",
    "results.insert(loc=1, column='F1-score', value=f1_score)\n",
    "results.columns.name = 'Algorithm'\n",
    "\n",
    "results"
   ]
  }
 ],
 "metadata": {
  "kernelspec": {
   "display_name": "Python",
   "language": "python",
   "name": "conda-env-python-py"
  },
  "language_info": {
   "codemirror_mode": {
    "name": "ipython",
    "version": 3
   },
   "file_extension": ".py",
   "mimetype": "text/x-python",
   "name": "python",
   "nbconvert_exporter": "python",
   "pygments_lexer": "ipython3",
   "version": "3.6.11"
  }
 },
 "nbformat": 4,
 "nbformat_minor": 4
}
