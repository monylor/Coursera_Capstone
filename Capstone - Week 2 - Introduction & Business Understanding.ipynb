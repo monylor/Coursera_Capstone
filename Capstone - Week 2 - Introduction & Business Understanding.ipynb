{
 "cells": [
  {
   "cell_type": "markdown",
   "metadata": {},
   "source": [
    "# 1) A description of the problem and a discussion of the background. (15 marks)"
   ]
  },
  {
   "cell_type": "markdown",
   "metadata": {},
   "source": [
    "### INTRODUCTION  BUSINESS UNDERSTANDING\n",
    "##### The problem consists on an analysis of data collected by the Seattle Department of Transportation from 2004 to present days. More than 200000 accidents have been happening since then. With the help of the dataset collected over the years, I want to build a machine learning model that could predict the severity of an accident giving particular external conditions, such as the type of location, the weather, the road conditions, or the light. Implementing such a model would allow for calculating the proabbility of an accident and alert drivers of dangerous conditions, with the goal of decrease the overall number of accidents. \n",
    "##### The audience is therefore the Seattle Traffic Management Department, which could use the model to improve external conditions (for instance, taking care of damaged roads or increasing the lights on dark streets) and to alert the police or the drivers when dangerous conditions may lead to severe accidents. \n"
   ]
  }
 ],
 "metadata": {
  "kernelspec": {
   "display_name": "Python",
   "language": "python",
   "name": "conda-env-python-py"
  },
  "language_info": {
   "codemirror_mode": {
    "name": "ipython",
    "version": 3
   },
   "file_extension": ".py",
   "mimetype": "text/x-python",
   "name": "python",
   "nbconvert_exporter": "python",
   "pygments_lexer": "ipython3",
   "version": "3.6.11"
  }
 },
 "nbformat": 4,
 "nbformat_minor": 4
}
