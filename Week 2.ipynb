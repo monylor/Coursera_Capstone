{
 "cells": [
  {
   "cell_type": "markdown",
   "metadata": {},
   "source": [
    "# 1) A description of the problem and a discussion of the background. (15 marks)"
   ]
  },
  {
   "cell_type": "markdown",
   "metadata": {},
   "source": [
    "### BUSINESS UNDERSTANDING\n",
    "##### The problem consists on an analysis of data collected by the Seattle Department of Transportation from 2004 to present days. More than 200000 accidents have been happening since then. With the help of the dataset collected over the years, I want to build a machine learning model that could predict the severity of an accident giving particular external conditions, such as the type of location, the weather, the road conditions, or the light. Implementing such a model would allow for calculating the proabbility of an accident and alert drivers of dangerous conditions, with the goal of decrease the overall number of accidents. \n",
    "##### The audience is therefore the Seattle Traffic Management Department, which could use the model to improve external conditions (for instance, taking care of damaged roads or increasing the lights on dark streets) and to alert the police or the drivers when dangerous conditions may lead to severe accidents. \n"
   ]
  },
  {
   "cell_type": "markdown",
   "metadata": {},
   "source": [
    "# 2)\tA description of the data and how it will be used to solve the problem. (15 marks)"
   ]
  },
  {
   "cell_type": "markdown",
   "metadata": {},
   "source": [
    "### DATA UNDERSTANDING\n",
    "##### I decided to directly download the dataset from the official Seattle GeoData website (https://data-seattlecitygis.opendata.arcgis.com/). The advantage of this is that this dataset is updated weekly, so the model can be directly updated with the new entries each week.  and continuously updated) reports all accidents that have been happening in Seattle from 2004 to present days. \n",
    "##### The dataset is a csv file, consisting of 221738 rows and 40 columns at the time of writing (oct 7th, 2020). Each column, or attribute, is helpful in the overall description of the accident. For instance, they describe the address of the accident and the type of location (intersections or segments), whether the accident involved cars, bikers or pedestrians, and the total number of people involved in each accident. A number of attributes describes the external conditions surrounding the accident, such as the weather, the visibility, the road conditions, or the presence of drivers under influence. \n",
    "##### An important column is the description of the severity of the accident, which has 5 possible outcomes: fatality, serious injury, inkury, or property damage only, plus a category for unknown severity. This will become the dependent variable (y) in our analysis, with other conditions being the independent variables (x): type of location, weather, light condition, road condition, type of collision. These are the attributes that I will use to train the machine learning models. \n",
    "##### To help in this decision, during this phase I will use some simple plots to visualize the data and explore correlations: for example, plotting the number of people involved in accidents as a function of weather conditions. \n"
   ]
  }
 ],
 "metadata": {
  "kernelspec": {
   "display_name": "Python",
   "language": "python",
   "name": "conda-env-python-py"
  },
  "language_info": {
   "codemirror_mode": {
    "name": "ipython",
    "version": 3
   },
   "file_extension": ".py",
   "mimetype": "text/x-python",
   "name": "python",
   "nbconvert_exporter": "python",
   "pygments_lexer": "ipython3",
   "version": "3.6.11"
  }
 },
 "nbformat": 4,
 "nbformat_minor": 4
}
